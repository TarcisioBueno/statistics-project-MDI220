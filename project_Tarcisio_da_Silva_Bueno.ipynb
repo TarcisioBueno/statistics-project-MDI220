{
 "cells": [
  {
   "cell_type": "markdown",
   "id": "528c4397",
   "metadata": {},
   "source": [
    "# MDI220\n",
    "# Statistics\n",
    "\n",
    "# Project "
   ]
  },
  {
   "cell_type": "markdown",
   "id": "9f9f9769",
   "metadata": {},
   "source": [
    "This is the project for the course on statistics.\n",
    "\n",
    "You must fill this notebook and upload it on eCampus, **including figures**. Please make sure that it runs **without erros**.\n",
    "\n",
    "You can work in teams but the final notebook, including text and code, must be **yours**. Any copy-pasting across students is strictly forbidden.\n",
    "\n",
    "Please provide **concise answers** and **concise code**, with comments when appropriate."
   ]
  },
  {
   "cell_type": "markdown",
   "id": "ca534555",
   "metadata": {},
   "source": [
    "## Your name: Tarcisio DA SILVA BUENO"
   ]
  },
  {
   "cell_type": "markdown",
   "id": "986d36a8",
   "metadata": {},
   "source": [
    "## Imports"
   ]
  },
  {
   "cell_type": "markdown",
   "id": "f30a6df8",
   "metadata": {},
   "source": [
    "Please do **not** import any other library."
   ]
  },
  {
   "cell_type": "code",
   "execution_count": 2,
   "id": "d453a573",
   "metadata": {},
   "outputs": [],
   "source": [
    "import numpy as np\n",
    "import pandas as pd\n",
    "import matplotlib.pyplot as plt"
   ]
  },
  {
   "cell_type": "code",
   "execution_count": 3,
   "id": "18e10613",
   "metadata": {},
   "outputs": [],
   "source": [
    "from scipy.stats import norm, chi2, gaussian_kde"
   ]
  },
  {
   "cell_type": "code",
   "execution_count": 4,
   "id": "2e543f41",
   "metadata": {},
   "outputs": [],
   "source": [
    "import seaborn as sns"
   ]
  },
  {
   "cell_type": "markdown",
   "id": "150efe52",
   "metadata": {},
   "source": [
    "## Data"
   ]
  },
  {
   "cell_type": "markdown",
   "id": "a447bd21",
   "metadata": {},
   "source": [
    "We consider the **daily electric power consumption** (in MW) in France in the period 2013-2023. The dataset is available on **eCampus**. \n",
    "\n",
    "Detailed information on this dataset is available [here](https://www.data.gouv.fr/fr/datasets/consommation-quotidienne-brute-regionale/)."
   ]
  },
  {
   "cell_type": "code",
   "execution_count": 5,
   "id": "a5379d2c",
   "metadata": {},
   "outputs": [],
   "source": [
    "# do not modify this cell\n",
    "filename = 'power_consumption.csv'\n",
    "df = pd.read_csv(filename)"
   ]
  },
  {
   "cell_type": "code",
   "execution_count": 6,
   "id": "c67ea70e",
   "metadata": {},
   "outputs": [
    {
     "data": {
      "text/html": [
       "<div>\n",
       "<style scoped>\n",
       "    .dataframe tbody tr th:only-of-type {\n",
       "        vertical-align: middle;\n",
       "    }\n",
       "\n",
       "    .dataframe tbody tr th {\n",
       "        vertical-align: top;\n",
       "    }\n",
       "\n",
       "    .dataframe thead th {\n",
       "        text-align: right;\n",
       "    }\n",
       "</style>\n",
       "<table border=\"1\" class=\"dataframe\">\n",
       "  <thead>\n",
       "    <tr style=\"text-align: right;\">\n",
       "      <th></th>\n",
       "      <th>region</th>\n",
       "      <th>date</th>\n",
       "      <th>consumption</th>\n",
       "    </tr>\n",
       "  </thead>\n",
       "  <tbody>\n",
       "    <tr>\n",
       "      <th>0</th>\n",
       "      <td>Auvergne-Rhône-Alpes</td>\n",
       "      <td>2013-01-01</td>\n",
       "      <td>7560</td>\n",
       "    </tr>\n",
       "    <tr>\n",
       "      <th>1</th>\n",
       "      <td>Auvergne-Rhône-Alpes</td>\n",
       "      <td>2013-01-02</td>\n",
       "      <td>8700</td>\n",
       "    </tr>\n",
       "    <tr>\n",
       "      <th>2</th>\n",
       "      <td>Auvergne-Rhône-Alpes</td>\n",
       "      <td>2013-01-03</td>\n",
       "      <td>9367</td>\n",
       "    </tr>\n",
       "    <tr>\n",
       "      <th>3</th>\n",
       "      <td>Auvergne-Rhône-Alpes</td>\n",
       "      <td>2013-01-04</td>\n",
       "      <td>9133</td>\n",
       "    </tr>\n",
       "    <tr>\n",
       "      <th>4</th>\n",
       "      <td>Auvergne-Rhône-Alpes</td>\n",
       "      <td>2013-01-05</td>\n",
       "      <td>8283</td>\n",
       "    </tr>\n",
       "  </tbody>\n",
       "</table>\n",
       "</div>"
      ],
      "text/plain": [
       "                 region        date  consumption\n",
       "0  Auvergne-Rhône-Alpes  2013-01-01         7560\n",
       "1  Auvergne-Rhône-Alpes  2013-01-02         8700\n",
       "2  Auvergne-Rhône-Alpes  2013-01-03         9367\n",
       "3  Auvergne-Rhône-Alpes  2013-01-04         9133\n",
       "4  Auvergne-Rhône-Alpes  2013-01-05         8283"
      ]
     },
     "execution_count": 6,
     "metadata": {},
     "output_type": "execute_result"
    }
   ],
   "source": [
    "df.head()"
   ]
  },
  {
   "cell_type": "code",
   "execution_count": 7,
   "id": "9e299cd9",
   "metadata": {},
   "outputs": [],
   "source": [
    "regions = list(df.region.unique())"
   ]
  },
  {
   "cell_type": "code",
   "execution_count": 8,
   "id": "907ac06f",
   "metadata": {},
   "outputs": [
    {
     "data": {
      "text/plain": [
       "['Auvergne-Rhône-Alpes',\n",
       " 'Bourgogne-Franche-Comté',\n",
       " 'Bretagne',\n",
       " 'Centre-Val de Loire',\n",
       " 'Grand Est',\n",
       " 'Hauts-de-France',\n",
       " 'Normandie',\n",
       " 'Nouvelle-Aquitaine',\n",
       " 'Occitanie',\n",
       " 'Pays de la Loire',\n",
       " \"Provence-Alpes-Côte d'Azur\",\n",
       " 'Île-de-France']"
      ]
     },
     "execution_count": 8,
     "metadata": {},
     "output_type": "execute_result"
    }
   ],
   "source": [
    "regions"
   ]
  },
  {
   "cell_type": "code",
   "execution_count": 9,
   "id": "2e2704da",
   "metadata": {},
   "outputs": [
    {
     "data": {
      "text/html": [
       "<div>\n",
       "<style scoped>\n",
       "    .dataframe tbody tr th:only-of-type {\n",
       "        vertical-align: middle;\n",
       "    }\n",
       "\n",
       "    .dataframe tbody tr th {\n",
       "        vertical-align: top;\n",
       "    }\n",
       "\n",
       "    .dataframe thead th {\n",
       "        text-align: right;\n",
       "    }\n",
       "</style>\n",
       "<table border=\"1\" class=\"dataframe\">\n",
       "  <thead>\n",
       "    <tr style=\"text-align: right;\">\n",
       "      <th></th>\n",
       "      <th>consumption</th>\n",
       "    </tr>\n",
       "    <tr>\n",
       "      <th>region</th>\n",
       "      <th></th>\n",
       "    </tr>\n",
       "  </thead>\n",
       "  <tbody>\n",
       "    <tr>\n",
       "      <th>Auvergne-Rhône-Alpes</th>\n",
       "      <td>7495</td>\n",
       "    </tr>\n",
       "    <tr>\n",
       "      <th>Bourgogne-Franche-Comté</th>\n",
       "      <td>2416</td>\n",
       "    </tr>\n",
       "    <tr>\n",
       "      <th>Bretagne</th>\n",
       "      <td>2546</td>\n",
       "    </tr>\n",
       "    <tr>\n",
       "      <th>Centre-Val de Loire</th>\n",
       "      <td>2139</td>\n",
       "    </tr>\n",
       "    <tr>\n",
       "      <th>Grand Est</th>\n",
       "      <td>5155</td>\n",
       "    </tr>\n",
       "    <tr>\n",
       "      <th>Hauts-de-France</th>\n",
       "      <td>5726</td>\n",
       "    </tr>\n",
       "    <tr>\n",
       "      <th>Normandie</th>\n",
       "      <td>3168</td>\n",
       "    </tr>\n",
       "    <tr>\n",
       "      <th>Nouvelle-Aquitaine</th>\n",
       "      <td>4925</td>\n",
       "    </tr>\n",
       "    <tr>\n",
       "      <th>Occitanie</th>\n",
       "      <td>4266</td>\n",
       "    </tr>\n",
       "    <tr>\n",
       "      <th>Pays de la Loire</th>\n",
       "      <td>3077</td>\n",
       "    </tr>\n",
       "    <tr>\n",
       "      <th>Provence-Alpes-Côte d'Azur</th>\n",
       "      <td>4656</td>\n",
       "    </tr>\n",
       "    <tr>\n",
       "      <th>Île-de-France</th>\n",
       "      <td>8008</td>\n",
       "    </tr>\n",
       "  </tbody>\n",
       "</table>\n",
       "</div>"
      ],
      "text/plain": [
       "                            consumption\n",
       "region                                 \n",
       "Auvergne-Rhône-Alpes               7495\n",
       "Bourgogne-Franche-Comté            2416\n",
       "Bretagne                           2546\n",
       "Centre-Val de Loire                2139\n",
       "Grand Est                          5155\n",
       "Hauts-de-France                    5726\n",
       "Normandie                          3168\n",
       "Nouvelle-Aquitaine                 4925\n",
       "Occitanie                          4266\n",
       "Pays de la Loire                   3077\n",
       "Provence-Alpes-Côte d'Azur         4656\n",
       "Île-de-France                      8008"
      ]
     },
     "execution_count": 9,
     "metadata": {},
     "output_type": "execute_result"
    }
   ],
   "source": [
    "# average consumption per region\n",
    "df[[\"region\", \"consumption\"]].groupby(\"region\").mean().astype(int)"
   ]
  },
  {
   "cell_type": "code",
   "execution_count": 10,
   "id": "3ed15bbc",
   "metadata": {},
   "outputs": [
    {
     "data": {
      "text/plain": [
       "consumption    53582\n",
       "dtype: int32"
      ]
     },
     "execution_count": 10,
     "metadata": {},
     "output_type": "execute_result"
    }
   ],
   "source": [
    "# average consumption in France (MW)\n",
    "df[[\"region\", \"consumption\"]].groupby(\"region\").mean().sum().astype(int)"
   ]
  },
  {
   "cell_type": "code",
   "execution_count": 11,
   "id": "2ebdd086",
   "metadata": {},
   "outputs": [],
   "source": [
    "# selection of a region\n",
    "region = \"Bretagne\"\n",
    "df_region = df[df.region == region]"
   ]
  },
  {
   "cell_type": "code",
   "execution_count": 12,
   "id": "bbb87de5",
   "metadata": {},
   "outputs": [
    {
     "data": {
      "image/png": "[encoded data removed]",
      "text/plain": [
       "<Figure size 640x480 with 1 Axes>"
      ]
     },
     "metadata": {},
     "output_type": "display_data"
    }
   ],
   "source": [
    "# density (with kde = kernel density estimation)\n",
    "sns.kdeplot(data=df_region, x=\"consumption\", label=\"Data\", color='blue', fill=True)\n",
    "plt.title(region)\n",
    "plt.xlabel(\"Consumption (MW)\")\n",
    "plt.legend() \n",
    "plt.show()"
   ]
  },
  {
   "cell_type": "markdown",
   "id": "045ae627",
   "metadata": {},
   "source": [
    "## A. Parameter estimation"
   ]
  },
  {
   "cell_type": "markdown",
   "id": "99972e6a",
   "metadata": {},
   "source": [
    "In all the project, the daily power consumptions are assumed to be i.i.d., with a Gaussian distribution. \n",
    "\n",
    "We use the following estimators for the mean and the variance, given $n$ observations $x_1,\\ldots,x_n$:\n",
    "$$\n",
    "\\hat \\mu = \\frac 1 n \\sum_{i=1}^n x_i\\quad \\hat{\\sigma^2} = \\frac 1 {n-1}\\sum_{i=1}^n (x_i - \\hat \\mu)^2\n",
    "$$\n",
    "The corresponding estimate of the standard deviation is:\n",
    "$$\n",
    "\\hat \\sigma = \\sqrt{\\hat{\\sigma^2}}\n",
    "$$\n",
    "\n",
    "Consider the region Bretagne. \n",
    "\n",
    "1. Show that the estimators for the mean and the variance are unbiased."
   ]
  },
  {
   "cell_type": "markdown",
   "id": "fc43c835",
   "metadata": {},
   "source": [
    "Your answer:\n",
    "\n",
    "Mean:\n",
    "\n",
    "$\\hat \\mu = \\frac 1 n \\sum_{i=1}^n x_i $. The expected value of $\\hat \\mu$ is:\n",
    "\n",
    "$$\n",
    "E[\\hat \\mu]= E\\left[\\frac 1 n \\sum_{i=1}^n x_i \\right] = \\frac 1 n \\sum_{i=1}^n  E\\left[x_i\\right] = \\frac 1 n \\sum_{i=1}^n  \\mu = \\frac 1 n n  \\mu = \\mu\n",
    "$$\n",
    "\n",
    "Hence, as $E[\\hat \\mu] = \\mu$, $\\hat \\mu$ is an unbiased estimator for the mean.\n",
    "\n",
    "Variance:\n",
    "\n",
    "The estimator for the variance is:\n",
    "\n",
    "$$ \\hat{\\sigma^2} = \\frac 1 {n-1}\\sum_{i=1}^n \\left(x_i - \\hat \\mu \\right)^2 =  \\frac 1 {n-1} \\left( \\sum_{i=1}^n x_i^2 - 2\\hat \\mu \\sum_{i=1}^n x_i + \\sum_{i=1}^n \\hat \\mu ^2 \\right) =  \\frac 1 {n-1} \\left( \\sum_{i=1}^n x_i^2 - 2n\\hat \\mu ^2 + n \\hat \\mu ^2 \\right) = \\frac 1 {n-1} \\left( \\sum_{i=1}^n x_i^2 - n \\hat \\mu ^2 \\right) $$\n",
    "\n",
    "Now we take the $E[\\hat{\\sigma^2}]$:\n",
    "\n",
    "$$ E \\left[\\hat{\\sigma^2} \\right] = \\frac 1 {n-1} \\left( \\sum_{i=1}^n E[x_i^2] - n E\\left[\\hat \\mu ^2\\right] \\right) $$\n",
    "\n",
    "Where:\n",
    "\n",
    "$$ E[x_i^2] = \\text{Var}(xi) + E[xi]^2 = \\sigma^2 + \\mu^2 $$\n",
    "\n",
    "$$ E[\\hat \\mu ^2] = \\text{Var}(\\hat \\mu) + E[\\hat \\mu]^2 = \\frac{\\sigma ^2}{n} +\\mu ^2$$\n",
    "\n",
    "Then: \n",
    "\n",
    "$$ \n",
    "E[\\hat{\\sigma^2}] = \\frac{1}{n-1} \\left[ \\sum_{i=1}^n (\\sigma^2 + \\mu^2 ) - n \\left(\\frac{\\sigma^2}{n} + \\mu^2\\right) \\right] = \\frac{1}{n-1} \\left[ n (\\sigma^2 + \\mu^2 ) - n \\left(\\frac{\\sigma^2}{n} + \\mu^2\\right) \\right] = \\frac{1}{n-1} (n\\sigma^2 - \\sigma^2) = \\sigma^2\n",
    "\\\n",
    "$$\n",
    "\n",
    "Hence, as $E[\\hat{\\sigma^2}] =\\sigma^2$, $\\hat{\\sigma^2}$ is an unbiased estimator for the variance."
   ]
  },
  {
   "cell_type": "markdown",
   "id": "259c0fed",
   "metadata": {},
   "source": [
    "2. Give the values obtained for the mean and the standard deviation using these estimators."
   ]
  },
  {
   "cell_type": "code",
   "execution_count": 13,
   "id": "e395b156",
   "metadata": {},
   "outputs": [],
   "source": [
    "def calculate_mean(region_data):\n",
    "    n = len(region_data['consumption'])\n",
    "    sum_mean = 0\n",
    "    for i in region_data['consumption']:\n",
    "        sum_mean = sum_mean + i\n",
    "    mean = sum_mean/n\n",
    "    return mean\n",
    "\n",
    "def calculate_sdv(region_data, mean):\n",
    "    sum_var = 0\n",
    "    n = len(region_data['consumption'])\n",
    "    for i in region_data['consumption']:\n",
    "        sum_var = sum_var + (i-mean)**2\n",
    "    variance = sum_var/(n-1)\n",
    "    standard_deviation = np.sqrt(variance)\n",
    "    return standard_deviation"
   ]
  },
  {
   "cell_type": "code",
   "execution_count": 14,
   "id": "d51c8554",
   "metadata": {},
   "outputs": [
    {
     "name": "stdout",
     "output_type": "stream",
     "text": [
      "Mean:  2546.536155666579\n",
      "Standard Deviation:  604.9429842099305\n"
     ]
    }
   ],
   "source": [
    "# selection of a region\n",
    "region = \"Bretagne\"\n",
    "df_region = df[df.region == region]\n",
    "\n",
    "mean = calculate_mean(df_region)\n",
    "standard_deviation = calculate_sdv(df_region, mean)\n",
    "print(\"Mean: \", mean)\n",
    "print(\"Standard Deviation: \", standard_deviation)"
   ]
  },
  {
   "cell_type": "markdown",
   "id": "d0c9e4bf",
   "metadata": {},
   "source": [
    "3. Generate new data using the corresponding Gaussian model, with the same number of samples."
   ]
  },
  {
   "cell_type": "code",
   "execution_count": 15,
   "id": "baedf3c5",
   "metadata": {},
   "outputs": [],
   "source": [
    "# selection of a region\n",
    "region = \"Bretagne\"\n",
    "df_region = df[df.region == region]\n",
    "new_data = np.random.normal(mean, standard_deviation, len(df_region['consumption']))"
   ]
  },
  {
   "cell_type": "markdown",
   "id": "99ffacb4",
   "metadata": {},
   "source": [
    "4. Plot the *kde* (kernel density estimate) of real data and the *kde* of generated data on the same figure."
   ]
  },
  {
   "cell_type": "code",
   "execution_count": 16,
   "id": "4bfd9db4",
   "metadata": {},
   "outputs": [
    {
     "data": {
      "image/png": "[encoded data removed]",
      "text/plain": [
       "<Figure size 640x480 with 1 Axes>"
      ]
     },
     "metadata": {},
     "output_type": "display_data"
    }
   ],
   "source": [
    "region = \"Bretagne\"\n",
    "df_region = df[df.region == region]\n",
    "sns.kdeplot(data=new_data, label=\"Generated Data\", color='red', fill=True)\n",
    "sns.kdeplot(data=df_region, x=\"consumption\", label=\"Real Data\", color='blue', fill=True)\n",
    "\n",
    "plt.title(region)\n",
    "plt.xlabel(\"Consumption (MW)\")\n",
    "plt.legend() \n",
    "plt.show()"
   ]
  },
  {
   "cell_type": "markdown",
   "id": "fc054c89",
   "metadata": {},
   "source": [
    "5. Do the same for the days corresponding to winter (from December 22 to March 21), after updating the model."
   ]
  },
  {
   "cell_type": "code",
   "execution_count": 17,
   "id": "6b5d51fd",
   "metadata": {},
   "outputs": [],
   "source": [
    "def get_winter_data(region_data):\n",
    "    filtered_df= pd.DataFrame()\n",
    "    for i in range(2011,2023):\n",
    "        start_date = pd.to_datetime('{}-12-22'.format(i))\n",
    "        end_date = pd.to_datetime('{}-03-21'.format(i+1))\n",
    "        filtered_df1 = region_data[(pd.to_datetime(region_data['date']) >= start_date) & (pd.to_datetime(region_data['date']) <= end_date)]\n",
    "        filtered_df = pd.concat([filtered_df, filtered_df1], ignore_index=True)\n",
    "    return filtered_df"
   ]
  },
  {
   "cell_type": "code",
   "execution_count": 18,
   "id": "2fc0b5af",
   "metadata": {},
   "outputs": [],
   "source": [
    "def plot_kde_real_and_generated(region_data, mean, sdv): \n",
    "    n = len(region_data['consumption'])  \n",
    "    new_data = np.random.normal(mean, sdv, n)\n",
    "    sns.kdeplot(data=new_data, label=\"Generated Data\", color='red', fill=True)\n",
    "    sns.kdeplot(data=region_data, x=\"consumption\", label=\"Real Data\", color='blue', fill=True)\n",
    "    plt.title(region)\n",
    "    plt.xlabel(\"Consumption (MW)\")\n",
    "    plt.legend() "
   ]
  },
  {
   "cell_type": "code",
   "execution_count": 19,
   "id": "6901a1f5",
   "metadata": {},
   "outputs": [
    {
     "name": "stdout",
     "output_type": "stream",
     "text": [
      "Mean:  3214.1782077393077\n",
      "Standard deviation:  409.4763740819989\n"
     ]
    },
    {
     "data": {
      "image/png": "[encoded data removed]",
      "text/plain": [
       "<Figure size 640x480 with 1 Axes>"
      ]
     },
     "metadata": {},
     "output_type": "display_data"
    }
   ],
   "source": [
    "region = \"Bretagne\"\n",
    "df_region = df[df.region == region]\n",
    "filtered_df_winter = get_winter_data(df_region)\n",
    "mean = calculate_mean(filtered_df_winter)\n",
    "standard_deviation = calculate_sdv(filtered_df_winter, mean)\n",
    "plot_kde_real_and_generated(filtered_df_winter,mean,standard_deviation)\n",
    "print(\"Mean: \", mean)\n",
    "print(\"Standard deviation: \", standard_deviation)"
   ]
  },
  {
   "cell_type": "markdown",
   "id": "2c341977",
   "metadata": {},
   "source": [
    "6. In which case the Gaussian model seems more appropriate?"
   ]
  },
  {
   "cell_type": "markdown",
   "id": "ed30869b",
   "metadata": {},
   "source": [
    "The Gaussian model appears to be more suitable for the case presented in exercise 5. This can be infered from the similarity between the two plots: one representing the kernel density estimation (KDE) of real data and the other the KDE of generated data. In contrast, the plots obtained in exercise 4 exhibit significant differences between them, suggesting that the chosen model may not be the best fit for the data."
   ]
  },
  {
   "cell_type": "markdown",
   "id": "3b396ff6",
   "metadata": {},
   "source": [
    "## B. Goodness of fit"
   ]
  },
  {
   "cell_type": "markdown",
   "id": "b5d39610",
   "metadata": {},
   "source": [
    "We would like to confirm and quantify the observation of part A.\n",
    "\n",
    "We propose the following metric to measure the dissimilarity between two pdf $f$ and $g$ (with respect to the Lebesgue measure):\n",
    "$$\n",
    "d(f, g) = \\frac 1 2 \\int |f(x) - g(x)| \\mathrm dx.\n",
    "$$"
   ]
  },
  {
   "cell_type": "markdown",
   "id": "87b5684d",
   "metadata": {},
   "source": [
    "1. Show that $d(f,g) \\in [0,1]$, with $d(f,g)=0$ if and only if $f=g$ almost everywhere (for the Lebesgue measure) and $d(f,g)=1$ if and only if $f$ and $g$ have disjoint supports."
   ]
  },
  {
   "cell_type": "markdown",
   "id": "397f4544",
   "metadata": {},
   "source": [
    "Your answser:\n",
    "\n",
    "Let $A$ be a set that includes the supports of $f$ and $g$. \n",
    "\n",
    "$$\n",
    "d(f, g) = \\frac 1 2 \\int\\limits_{A} |f(x) - g(x)| \\mathrm dx\n",
    "$$\n",
    "\n",
    "We can write that:\n",
    "\n",
    "$$\n",
    "d(f, g) = \\frac 1 2 \\int\\limits_{A} |f(x) - g(x)| \\mathrm dx \\leqslant  \\frac 1 2 \\int\\limits_{A} |f(x) + g(x)| \\mathrm dx\n",
    "$$\n",
    "\n",
    "We can use the triangle inequality to write:\n",
    "\n",
    "$$\n",
    "d(f, g) \\leqslant  \\frac 1 2 \\int\\limits_{A} |f(x) + g(x)| \\mathrm dx \\leqslant \\frac 1 2 \\int\\limits_{A} |f(x)| + |g(x)| \\mathrm dx = \\frac 1 2 \\int\\limits_{A} f(x) + \\frac 1 2 \\int\\limits_{A} g(x) \\mathrm dx = \\frac{1}{2}1 + \\frac{1}{2}1 = 1\n",
    "$$\n",
    "\n",
    "By the definiton of $|f(x)-g(x)| \\geqslant 0$, therefore $d(f,g)\\geqslant 0$. We can then conclude that $d(f,g) \\in [0,1]$\n",
    "\n",
    "---------------------------------------------------------------------------------\n",
    "\n",
    "Now, we prove that $d(f,g)=0\\Leftrightarrow f=g almost everywhere$\n",
    "\n",
    "We consider 3 sets:\n",
    "\n",
    "$$\n",
    "A = \\{ x \\in \\mathbb{R} \\,| \\, f(x) > g(x) \\} \\\\\n",
    "B = \\{ x \\in \\mathbb{R} \\,| \\, f(x) < g(x) \\} \\\\\n",
    "C = \\{ x \\in \\mathbb{R} \\,| \\, f(x) = g(x) \\} \\\\\n",
    "$$\n",
    "\n",
    "Where $A \\cap B \\cap C = \\emptyset$.\n",
    "\n",
    "$d(f,g)=0$, then:\n",
    "\n",
    "$$\n",
    "d(f,g)=0=\\frac{1}{2}\\int\\limits_{A \\cup B \\cup C} |f(x)-g(x)|dx=\\frac{1}{2}\\int\\limits_{A}f(x)-g(x)dx + \\frac{1}{2}\\int\\limits_{B}g(x)-f(x)dx + \\frac{1}{2}\\int\\limits_{C}g(x)-f(x)dx\n",
    "$$\n",
    "\n",
    "As:\n",
    "\n",
    "$$\n",
    "\\frac{1}{2}\\int\\limits_{C}g(x)-f(x)dx = 0\n",
    "$$\n",
    "\n",
    "We can write:\n",
    "\n",
    "$$\n",
    "0 = \\frac{1}{2}\\int\\limits_{A}f(x)-g(x)dx + \\frac{1}{2}\\int\\limits_{B}g(x)-f(x)dx \n",
    "$$\n",
    "\n",
    "Both integrals are non-negative, but for their sum to be 0, it implies that the sets A and B must be empty. Therefore, we are left with 1 non-empty set $C = \\{ x \\in \\mathbb{R} \\,| \\, f(x) = g(x) \\}$.\n",
    "\n",
    "Now, we consider that $f(x) = g(x)$ almost everywhere. Then:\n",
    "\n",
    "$$\n",
    "d(f,g)=\\frac{1}{2}\\int\\limits_{D} |f(x)-g(x)|dx=\\frac{1}{2}\\int\\limits_{A}f(x)-g(x)dx = 0\n",
    "$$\n",
    "\n",
    "Therefore $d(f,g)=0\\Leftrightarrow f=g$ almost everywhere.\n",
    "\n",
    "---------------------------------------------------------------------------------\n",
    "Now we prove that $d(f,g)=1 \\Leftrightarrow \\, f$ and $g$ have disjoint supports.\n",
    "\n",
    "First part\n",
    "\n",
    "Let $A$ and $B$ be the supports of $f$ and $g$ respectively. As $d(f,g)=1$, we have:\n",
    "\n",
    "$$\n",
    "d(f,g)=1=\\frac{1}{2}\\int\\limits_{A \\cup B} |f(x)-g(x)|dx= \\frac{1}{2}\\int\\limits_{A} |f(x)-g(x)|dx + \\frac{1}{2}\\int\\limits_{B} |f(x)-g(x)|dx - \\frac{1}{2}\\int\\limits_{A \\cap B} |f(x)-g(x)|dx\n",
    "$$\n",
    "\n",
    "Let's consider the maximum values of each integral:\n",
    "\n",
    "$$\n",
    "\\frac{1}{2}\\int\\limits_{A} |f(x)-g(x)|dx <= 0.5 \\quad (I)\\\\\n",
    "\\frac{1}{2}\\int\\limits_{B} |f(x)-g(x)|dx <= 0.5 \\quad (II)\\\\\n",
    "\\frac{1}{2}\\int\\limits_{A \\cap B} |f(x)-g(x)|dx <= 0.5 \\quad (III)\\\\\n",
    "$$\n",
    "\n",
    "d(f,g)=1, only if the integrals $I$ and $II$ are $0.5$ and $III$ is 0. For that, $g(x)$ needs to be $0$ in $A$ and $f(x)$ needs to be $0$ in $B$. Therefore, $A \\cap B$ is an empty set and $f$ and $g$ have disjoint supports. \n",
    "\n",
    "Second part\n",
    "\n",
    "Let $A$ and $B$ be the supports of $f$ and $g$ respectively. $A$ and $B$ are disjoint, which means that $f=0$ and $g=0$ almost everywhere outside $A$ and $B$ respectvely. We can write:\n",
    "\n",
    "$$\n",
    "d(f,g)=\\frac{1}{2}\\int\\limits_{A \\cap B} |f(x)-g(x)|dx= \\frac{1}{2}\\int\\limits_{A} |f(x)-0|dx + \\frac{1}{2}\\int\\limits_{B} |0-g(x)|dx = \\frac{1}{2}\\int\\limits_{A} f(x)dx + \\frac{1}{2}\\int\\limits_{B} g(x)dx = \\frac{1}{2} 1 + \\frac{1}{2} 1 = 1\n",
    "$$\n",
    "\n",
    "Therefore $d(f,g)=1 \\Leftrightarrow$ $f$ and $g$ have disjoint supports."
   ]
  },
  {
   "cell_type": "markdown",
   "id": "ae7d158a",
   "metadata": {},
   "source": [
    "2. For the region Bretagne, compute the dissimilarity between the *kde* of real data and the density of the Gaussian model."
   ]
  },
  {
   "cell_type": "code",
   "execution_count": 20,
   "id": "43801814",
   "metadata": {},
   "outputs": [],
   "source": [
    "def calculate_dissimilarty(region_data):\n",
    "    kde = gaussian_kde(region_data[\"consumption\"])\n",
    "    x_values = np.linspace(region_data[\"consumption\"].min()-1000, region_data[\"consumption\"].max()+1000, 1000) \n",
    "    # Calculate the values of the PDFs at these x values\n",
    "    density_at_x = kde(x_values)  \n",
    "    gaussian_density_at_x = norm.pdf(x_values, region_data[\"consumption\"].mean(), region_data[\"consumption\"].std())\n",
    "    # Calculate the absolute difference between the two PDFs\n",
    "    abs_diff = np.abs(gaussian_density_at_x - density_at_x)\n",
    "    #calculate the integral\n",
    "    dissimilarity = (1/2)*np.trapz(abs_diff, x_values)\n",
    "    return dissimilarity"
   ]
  },
  {
   "cell_type": "code",
   "execution_count": 21,
   "id": "e488b4f4",
   "metadata": {},
   "outputs": [
    {
     "name": "stdout",
     "output_type": "stream",
     "text": [
      "The dissimilarity is: 0.179\n"
     ]
    }
   ],
   "source": [
    "region = \"Bretagne\"\n",
    "df_region = df[df.region == region]\n",
    "dissimilarity = calculate_dissimilarty(df_region)\n",
    "print(\"The dissimilarity is: {:.3f}\".format(dissimilarity))"
   ]
  },
  {
   "cell_type": "markdown",
   "id": "f8817106",
   "metadata": {},
   "source": [
    "3. Do the same for the region Bretagne in winter and check your conclusion of part A."
   ]
  },
  {
   "cell_type": "code",
   "execution_count": 22,
   "id": "7b15a902",
   "metadata": {},
   "outputs": [
    {
     "name": "stdout",
     "output_type": "stream",
     "text": [
      "The dissimilarity is: 0.031\n"
     ]
    }
   ],
   "source": [
    "filtered_df = get_winter_data(df_region)\n",
    "mean = calculate_mean(filtered_df)\n",
    "sdv = calculate_sdv(filtered_df, mean)\n",
    "dissimilarity = calculate_dissimilarty(filtered_df)\n",
    "print(\"The dissimilarity is: {:.3f}\".format(dissimilarity))"
   ]
  },
  {
   "cell_type": "markdown",
   "id": "7d78fec0",
   "metadata": {},
   "source": [
    "4. Do the same for all regions. Give the result as a single dataframe."
   ]
  },
  {
   "cell_type": "code",
   "execution_count": 23,
   "id": "1de13f9c",
   "metadata": {},
   "outputs": [
    {
     "name": "stderr",
     "output_type": "stream",
     "text": [
      "C:\\Users\\Usuario\\AppData\\Local\\Temp\\ipykernel_18116\\3977067330.py:10: FutureWarning: The behavior of DataFrame concatenation with empty or all-NA entries is deprecated. In a future version, this will no longer exclude empty or all-NA columns when determining the result dtypes. To retain the old behavior, exclude the relevant entries before the concat operation.\n",
      "  data = pd.concat([data, new_data],  ignore_index=True)\n"
     ]
    },
    {
     "data": {
      "text/html": [
       "<div>\n",
       "<style scoped>\n",
       "    .dataframe tbody tr th:only-of-type {\n",
       "        vertical-align: middle;\n",
       "    }\n",
       "\n",
       "    .dataframe tbody tr th {\n",
       "        vertical-align: top;\n",
       "    }\n",
       "\n",
       "    .dataframe thead th {\n",
       "        text-align: right;\n",
       "    }\n",
       "</style>\n",
       "<table border=\"1\" class=\"dataframe\">\n",
       "  <thead>\n",
       "    <tr style=\"text-align: right;\">\n",
       "      <th></th>\n",
       "      <th>region</th>\n",
       "      <th>region_dissimilarity</th>\n",
       "      <th>winter_dissimilarity</th>\n",
       "    </tr>\n",
       "  </thead>\n",
       "  <tbody>\n",
       "    <tr>\n",
       "      <th>0</th>\n",
       "      <td>Auvergne-Rhône-Alpes</td>\n",
       "      <td>0.165422</td>\n",
       "      <td>0.037355</td>\n",
       "    </tr>\n",
       "    <tr>\n",
       "      <th>1</th>\n",
       "      <td>Bourgogne-Franche-Comté</td>\n",
       "      <td>0.124547</td>\n",
       "      <td>0.037437</td>\n",
       "    </tr>\n",
       "    <tr>\n",
       "      <th>2</th>\n",
       "      <td>Bretagne</td>\n",
       "      <td>0.178947</td>\n",
       "      <td>0.030937</td>\n",
       "    </tr>\n",
       "    <tr>\n",
       "      <th>3</th>\n",
       "      <td>Centre-Val de Loire</td>\n",
       "      <td>0.193977</td>\n",
       "      <td>0.043147</td>\n",
       "    </tr>\n",
       "    <tr>\n",
       "      <th>4</th>\n",
       "      <td>Grand Est</td>\n",
       "      <td>0.114706</td>\n",
       "      <td>0.039030</td>\n",
       "    </tr>\n",
       "    <tr>\n",
       "      <th>5</th>\n",
       "      <td>Hauts-de-France</td>\n",
       "      <td>0.130644</td>\n",
       "      <td>0.027502</td>\n",
       "    </tr>\n",
       "    <tr>\n",
       "      <th>6</th>\n",
       "      <td>Normandie</td>\n",
       "      <td>0.174280</td>\n",
       "      <td>0.042745</td>\n",
       "    </tr>\n",
       "    <tr>\n",
       "      <th>7</th>\n",
       "      <td>Nouvelle-Aquitaine</td>\n",
       "      <td>0.215335</td>\n",
       "      <td>0.053731</td>\n",
       "    </tr>\n",
       "    <tr>\n",
       "      <th>8</th>\n",
       "      <td>Occitanie</td>\n",
       "      <td>0.220827</td>\n",
       "      <td>0.063235</td>\n",
       "    </tr>\n",
       "    <tr>\n",
       "      <th>9</th>\n",
       "      <td>Pays de la Loire</td>\n",
       "      <td>0.168759</td>\n",
       "      <td>0.039182</td>\n",
       "    </tr>\n",
       "    <tr>\n",
       "      <th>10</th>\n",
       "      <td>Provence-Alpes-Côte d'Azur</td>\n",
       "      <td>0.228785</td>\n",
       "      <td>0.034809</td>\n",
       "    </tr>\n",
       "    <tr>\n",
       "      <th>11</th>\n",
       "      <td>Île-de-France</td>\n",
       "      <td>0.169007</td>\n",
       "      <td>0.052040</td>\n",
       "    </tr>\n",
       "  </tbody>\n",
       "</table>\n",
       "</div>"
      ],
      "text/plain": [
       "                        region  region_dissimilarity  winter_dissimilarity\n",
       "0         Auvergne-Rhône-Alpes              0.165422              0.037355\n",
       "1      Bourgogne-Franche-Comté              0.124547              0.037437\n",
       "2                     Bretagne              0.178947              0.030937\n",
       "3          Centre-Val de Loire              0.193977              0.043147\n",
       "4                    Grand Est              0.114706              0.039030\n",
       "5              Hauts-de-France              0.130644              0.027502\n",
       "6                    Normandie              0.174280              0.042745\n",
       "7           Nouvelle-Aquitaine              0.215335              0.053731\n",
       "8                    Occitanie              0.220827              0.063235\n",
       "9             Pays de la Loire              0.168759              0.039182\n",
       "10  Provence-Alpes-Côte d'Azur              0.228785              0.034809\n",
       "11               Île-de-France              0.169007              0.052040"
      ]
     },
     "execution_count": 23,
     "metadata": {},
     "output_type": "execute_result"
    }
   ],
   "source": [
    "data =pd.DataFrame(columns=['region', 'region_dissimilarity', 'winter_dissimilarity'])\n",
    "for region in regions:\n",
    "    #whole region\n",
    "    df_region = df[df.region == region]\n",
    "    region_dissimilarity = calculate_dissimilarty(df_region)\n",
    "    #winter\n",
    "    filtered_df = get_winter_data(df_region)\n",
    "    r_winter_dindissimilarity = calculate_dissimilarty(filtered_df)\n",
    "    new_data = pd.DataFrame([{'region': region, 'region_dissimilarity': region_dissimilarity, 'winter_dissimilarity': r_winter_dindissimilarity}])\n",
    "    data = pd.concat([data, new_data],  ignore_index=True)\n",
    "data"
   ]
  },
  {
   "cell_type": "markdown",
   "id": "3f0d3f61",
   "metadata": {},
   "source": [
    "5. Which region is best fitted by a Gaussian model in winter?"
   ]
  },
  {
   "cell_type": "code",
   "execution_count": 24,
   "id": "251b89b1",
   "metadata": {},
   "outputs": [
    {
     "name": "stdout",
     "output_type": "stream",
     "text": [
      "The region that best fits a Gaussian model in winter is the one with the smallest winter dissimilarity:\n"
     ]
    },
    {
     "data": {
      "text/html": [
       "<div>\n",
       "<style scoped>\n",
       "    .dataframe tbody tr th:only-of-type {\n",
       "        vertical-align: middle;\n",
       "    }\n",
       "\n",
       "    .dataframe tbody tr th {\n",
       "        vertical-align: top;\n",
       "    }\n",
       "\n",
       "    .dataframe thead th {\n",
       "        text-align: right;\n",
       "    }\n",
       "</style>\n",
       "<table border=\"1\" class=\"dataframe\">\n",
       "  <thead>\n",
       "    <tr style=\"text-align: right;\">\n",
       "      <th></th>\n",
       "      <th>region</th>\n",
       "      <th>winter_dissimilarity</th>\n",
       "    </tr>\n",
       "  </thead>\n",
       "  <tbody>\n",
       "    <tr>\n",
       "      <th>5</th>\n",
       "      <td>Hauts-de-France</td>\n",
       "      <td>0.027502</td>\n",
       "    </tr>\n",
       "  </tbody>\n",
       "</table>\n",
       "</div>"
      ],
      "text/plain": [
       "            region  winter_dissimilarity\n",
       "5  Hauts-de-France              0.027502"
      ]
     },
     "execution_count": 24,
     "metadata": {},
     "output_type": "execute_result"
    }
   ],
   "source": [
    "index = data['winter_dissimilarity'].idxmin()\n",
    "region_with_min_dissimilarity = data.iloc[[index]]\n",
    "print(\"The region that best fits a Gaussian model in winter is the one with the smallest winter dissimilarity:\")\n",
    "region_with_min_dissimilarity[['region','winter_dissimilarity']]"
   ]
  },
  {
   "cell_type": "markdown",
   "id": "aff086e4",
   "metadata": {},
   "source": [
    "6. For this region and this season, plot the *kde* of real data and the *kde* of generated data on the same figure, as in part A."
   ]
  },
  {
   "cell_type": "code",
   "execution_count": 25,
   "id": "d61bb84e",
   "metadata": {},
   "outputs": [
    {
     "data": {
      "image/png": "[encoded data removed]",
      "text/plain": [
       "<Figure size 640x480 with 1 Axes>"
      ]
     },
     "metadata": {},
     "output_type": "display_data"
    }
   ],
   "source": [
    "region = data.loc[index, 'region']\n",
    "df_region = df[df.region == region]\n",
    "filtered_df_winter = get_winter_data(df_region)\n",
    "mean = calculate_mean(filtered_df_winter)\n",
    "standard_deviation = calculate_sdv(filtered_df_winter, mean)\n",
    "plot_kde_real_and_generated(filtered_df_winter,mean, standard_deviation)"
   ]
  },
  {
   "cell_type": "markdown",
   "id": "838fb2d1",
   "metadata": {},
   "source": [
    "## C. Bayesian statistics"
   ]
  },
  {
   "cell_type": "markdown",
   "id": "527bb07e",
   "metadata": {},
   "source": [
    "We would like to include prior knowledge on the estimation, using Bayesian statistics.\n",
    "\n",
    "Consider the region Bretagne in winter. We focus on the mean $\\mu$, assuming the standard deviation is known and equal to $\\sigma=400$ MW. We assume a Gaussian prior on $ \\mu$ with mean $\\mu_0=3500$ MW and standard deviation $\\sigma_0=500$ MW. \n",
    "\n",
    "1. Give the posterior distribution of $\\mu$, using the parameters $\\sigma$, $\\mu_0$, $\\sigma_0$ and the $n$ observations $x_1,\\ldots,x_n$."
   ]
  },
  {
   "cell_type": "markdown",
   "id": "2d66e4b9",
   "metadata": {},
   "source": [
    "Your answer:\n",
    "\n",
    "$\\pi(u) \\thicksim N(\\mu_0, \\sigma_0)$ and $ X \\thicksim N(\\mu, \\sigma) $\n",
    "\n",
    "The posterior distribution is:\n",
    "\n",
    "$$ \\pi(u|x) \\propto  e^{-\\frac{(u - \\mu_0)^2}{2\\sigma_0^2}} \\prod_{i=1}^n  e^{-\\frac{(x_i - \\mu)^2}{2\\sigma^2}} = e^{-\\frac{(u - \\mu_0)^2}{2\\sigma_0^2}} \\cdot e^{-\\frac{1}{2\\sigma^2} \\sum_{i=1}^n (x_i - \\mu)^2} = e^{-\\frac{(u - \\mu_0)^2}{2\\sigma_0^2} - \\frac{1}{2\\sigma^2} \\sum_{i=1}^n (x_i - \\mu)^2} $$\n",
    "\n",
    "We can open the squares of a sum and take out the values that do not depend on $\\mu$.\n",
    "\n",
    "$$  \\pi(u|x) \\propto e^{-\\frac{1}{2\\sigma_0^2} (u^2 - 2uu_0 + \\mu_0^2) - \\frac{1}{2\\sigma^2} \\left(\\sum_{i=1}^n x_i^2 - 2\\mu\\sum_{i=1}^n x_i + \\sum_{i=1}^n \\mu^2\\right)} \\propto  e^{-(\\frac{1}{2\\sigma_0^2} (u^2 - 2uu_0) - \\frac{1}{2\\sigma^2} \\left(2\\mu\\sum_{i=1}^n x_i + n\\mu^2\\right))} = e^{-[u^2 (\\frac{1}{2\\sigma^2} + \\frac{n}{2\\sigma^2})-u(\\frac{\\mu_0}{\\sigma_0^2}+\\frac{\\sum_{i=1}^nx_i}{\\sigma^2})]} \\quad (1)$$\n",
    "\n",
    "We assume the posterior will also be a Gaussian distribution. So, we will have something similar to the following equation:\n",
    "\n",
    "$$ \\pi(u|x) \\propto  e^{-\\frac{(u - \\mu_x)^2}{2\\sigma_x^2}} = e^{-\\frac{u^2-2uu_x+u_x^2}{2\\sigma_x^2}} \\propto e^{-\\frac{u^2-2uu_x}{2\\sigma_x^2}} \\quad (2)$$\n",
    "\n",
    "Comparing (1) and (2), we have:\n",
    "\n",
    "$$ \\frac{1}{\\sigma_0^2} + \\frac{n}{\\sigma^2} = \\frac{1}{\\sigma_x^2} \\rightarrow \\sigma_x^2 = \\frac{\\sigma_0^2 \\sigma^2}{\\sigma^2+n\\sigma_0^2} $$\n",
    "\n",
    "$$ \\frac{\\mu_0}{\\sigma_0^2} + \\frac{\\sum_{i=1}^n x_i}{\\sigma^2} = \\frac{\\mu_x}{\\sigma_x^2} \\rightarrow \\sigma_x^2 \\left[ \\frac{\\mu_0 \\sigma^2 + \\sigma_0^2 \\sum_{i=1}^nx_i}{\\sigma^2 \\sigma^2} \\right] \\rightarrow \\mu_x = \\frac{\\mu_0\\sigma^2+\\sigma_0^2\\sum_{i=1}^n x_i}{\\sigma^2+n\\sigma_0^2} \\$$"
   ]
  },
  {
   "cell_type": "markdown",
   "id": "9ce2daad",
   "metadata": {},
   "source": [
    "2. Give the parameters of the posterior distribution obtained for each year from 2013 to 2023, considered independently, in a single dataframe."
   ]
  },
  {
   "cell_type": "code",
   "execution_count": 26,
   "id": "706f0493",
   "metadata": {},
   "outputs": [],
   "source": [
    "def get_winter_year(data, year):\n",
    "        data = data.copy()\n",
    "        data['date'] = pd.to_datetime(data['date'])\n",
    "        is_winter = (\n",
    "        ((data['date'].dt.month == 12) & (data['date'].dt.day >= 22) & (data['date'].dt.year == year - 1)) |\n",
    "        ((data['date'].dt.month <= 2) & (data['date'].dt.year == year)) |\n",
    "        ((data['date'].dt.month == 3) & (data['date'].dt.day <= 21) & (data['date'].dt.year == year)))\n",
    "        return data[is_winter]"
   ]
  },
  {
   "cell_type": "code",
   "execution_count": 27,
   "id": "74439986",
   "metadata": {},
   "outputs": [],
   "source": [
    "sdv = 400\n",
    "u_0 = 3500\n",
    "sdv_0 = 500\n",
    "region = \"Bretagne\"\n",
    "df_region = df[df.region == region]\n",
    "filtered_data = get_winter_data(df_region)"
   ]
  },
  {
   "cell_type": "code",
   "execution_count": 28,
   "id": "28df462b",
   "metadata": {},
   "outputs": [
    {
     "name": "stderr",
     "output_type": "stream",
     "text": [
      "C:\\Users\\Usuario\\AppData\\Local\\Temp\\ipykernel_18116\\854537438.py:10: FutureWarning: The behavior of DataFrame concatenation with empty or all-NA entries is deprecated. In a future version, this will no longer exclude empty or all-NA columns when determining the result dtypes. To retain the old behavior, exclude the relevant entries before the concat operation.\n",
      "  data = pd.concat([data,new_data], ignore_index=True)\n"
     ]
    },
    {
     "data": {
      "text/html": [
       "<div>\n",
       "<style scoped>\n",
       "    .dataframe tbody tr th:only-of-type {\n",
       "        vertical-align: middle;\n",
       "    }\n",
       "\n",
       "    .dataframe tbody tr th {\n",
       "        vertical-align: top;\n",
       "    }\n",
       "\n",
       "    .dataframe thead th {\n",
       "        text-align: right;\n",
       "    }\n",
       "</style>\n",
       "<table border=\"1\" class=\"dataframe\">\n",
       "  <thead>\n",
       "    <tr style=\"text-align: right;\">\n",
       "      <th></th>\n",
       "      <th>year</th>\n",
       "      <th>posterior_mean</th>\n",
       "      <th>posterior_variance</th>\n",
       "    </tr>\n",
       "  </thead>\n",
       "  <tbody>\n",
       "    <tr>\n",
       "      <th>0</th>\n",
       "      <td>2013</td>\n",
       "      <td>3395.176091</td>\n",
       "      <td>1984.126984</td>\n",
       "    </tr>\n",
       "    <tr>\n",
       "      <th>1</th>\n",
       "      <td>2014</td>\n",
       "      <td>3095.134598</td>\n",
       "      <td>1765.225066</td>\n",
       "    </tr>\n",
       "    <tr>\n",
       "      <th>2</th>\n",
       "      <td>2015</td>\n",
       "      <td>3229.578553</td>\n",
       "      <td>1765.225066</td>\n",
       "    </tr>\n",
       "    <tr>\n",
       "      <th>3</th>\n",
       "      <td>2016</td>\n",
       "      <td>3133.762549</td>\n",
       "      <td>1745.962462</td>\n",
       "    </tr>\n",
       "    <tr>\n",
       "      <th>4</th>\n",
       "      <td>2017</td>\n",
       "      <td>3275.816417</td>\n",
       "      <td>1765.225066</td>\n",
       "    </tr>\n",
       "    <tr>\n",
       "      <th>5</th>\n",
       "      <td>2018</td>\n",
       "      <td>3328.695940</td>\n",
       "      <td>1765.225066</td>\n",
       "    </tr>\n",
       "    <tr>\n",
       "      <th>6</th>\n",
       "      <td>2019</td>\n",
       "      <td>3179.931598</td>\n",
       "      <td>1765.225066</td>\n",
       "    </tr>\n",
       "    <tr>\n",
       "      <th>7</th>\n",
       "      <td>2020</td>\n",
       "      <td>3124.061545</td>\n",
       "      <td>1745.962462</td>\n",
       "    </tr>\n",
       "    <tr>\n",
       "      <th>8</th>\n",
       "      <td>2021</td>\n",
       "      <td>3360.657546</td>\n",
       "      <td>1765.225066</td>\n",
       "    </tr>\n",
       "    <tr>\n",
       "      <th>9</th>\n",
       "      <td>2022</td>\n",
       "      <td>3216.041483</td>\n",
       "      <td>1765.225066</td>\n",
       "    </tr>\n",
       "    <tr>\n",
       "      <th>10</th>\n",
       "      <td>2023</td>\n",
       "      <td>3061.154016</td>\n",
       "      <td>1765.225066</td>\n",
       "    </tr>\n",
       "  </tbody>\n",
       "</table>\n",
       "</div>"
      ],
      "text/plain": [
       "    year  posterior_mean  posterior_variance\n",
       "0   2013     3395.176091         1984.126984\n",
       "1   2014     3095.134598         1765.225066\n",
       "2   2015     3229.578553         1765.225066\n",
       "3   2016     3133.762549         1745.962462\n",
       "4   2017     3275.816417         1765.225066\n",
       "5   2018     3328.695940         1765.225066\n",
       "6   2019     3179.931598         1765.225066\n",
       "7   2020     3124.061545         1745.962462\n",
       "8   2021     3360.657546         1765.225066\n",
       "9   2022     3216.041483         1765.225066\n",
       "10  2023     3061.154016         1765.225066"
      ]
     },
     "execution_count": 28,
     "metadata": {},
     "output_type": "execute_result"
    }
   ],
   "source": [
    "#mean and variance of the posterior distribution\n",
    "data = pd.DataFrame(columns=['year','posterior_mean','posterior_variance'])\n",
    "for year in range(2013,2024):\n",
    "    data_winter_year = get_winter_year(filtered_data, year)\n",
    "    n = len(data_winter_year['consumption'])\n",
    "    sum_xi = data_winter_year['consumption'].sum()\n",
    "    sdv_p = np.sqrt(((sdv_0**2)*(sdv**2))/((sdv**2)+n*(sdv_0**2)))\n",
    "    u_p = ((u_0 * sdv ** 2) + (sdv_0 ** 2) * sum_xi) / (sdv ** 2 + n * sdv_0 ** 2)\n",
    "    new_data = pd.DataFrame([{'year':year,'posterior_mean':u_p,'posterior_variance':sdv_p**2}])\n",
    "    data = pd.concat([data,new_data], ignore_index=True)\n",
    "data"
   ]
  },
  {
   "cell_type": "markdown",
   "id": "34e7e53f",
   "metadata": {},
   "source": [
    "3. Plot the density of the posterior distribution in 2023 and the *kde* of real data in 2023 on the same plot."
   ]
  },
  {
   "cell_type": "code",
   "execution_count": 29,
   "id": "eb02344e",
   "metadata": {},
   "outputs": [
    {
     "name": "stderr",
     "output_type": "stream",
     "text": [
      "C:\\Users\\Usuario\\AppData\\Local\\Temp\\ipykernel_18116\\3016652561.py:2: FutureWarning: Series.__getitem__ treating keys as positions is deprecated. In a future version, integer keys will always be treated as labels (consistent with DataFrame behavior). To access a value by position, use `ser.iloc[pos]`\n",
      "  plot_kde_real_and_generated(data_winter_2023, data.iloc[10,:][1], np.sqrt(data.iloc[10,:][2]))\n"
     ]
    },
    {
     "data": {
      "image/png": "[encoded data removed]",
      "text/plain": [
       "<Figure size 640x480 with 1 Axes>"
      ]
     },
     "metadata": {},
     "output_type": "display_data"
    }
   ],
   "source": [
    "data_winter_2023 = get_winter_year(filtered_data, 2023)\n",
    "plot_kde_real_and_generated(data_winter_2023, data.iloc[10,:][1], np.sqrt(data.iloc[10,:][2]))"
   ]
  },
  {
   "cell_type": "markdown",
   "id": "34f2f990",
   "metadata": {},
   "source": [
    "4. Discuss the results, comparing to those obtained in part A."
   ]
  },
  {
   "cell_type": "code",
   "execution_count": 30,
   "id": "c16e7622",
   "metadata": {},
   "outputs": [
    {
     "name": "stdout",
     "output_type": "stream",
     "text": [
      "Mean obtained - part A:  3058.0333333333333\n",
      "Mean obtained - part C:  3061.1540158870257\n"
     ]
    },
    {
     "name": "stderr",
     "output_type": "stream",
     "text": [
      "C:\\Users\\Usuario\\AppData\\Local\\Temp\\ipykernel_18116\\3692577260.py:5: FutureWarning: Series.__getitem__ treating keys as positions is deprecated. In a future version, integer keys will always be treated as labels (consistent with DataFrame behavior). To access a value by position, use `ser.iloc[pos]`\n",
      "  mean_part_B = data.iloc[10,:][1]\n"
     ]
    }
   ],
   "source": [
    "#Results obtained in part A\n",
    "mean_part_A = data_winter_2023['consumption'].mean()\n",
    "\n",
    "#Results obtained in part B\n",
    "mean_part_B = data.iloc[10,:][1]\n",
    "\n",
    "print(\"Mean obtained - part A: \", mean_part_A)\n",
    "print(\"Mean obtained - part C: \", mean_part_B)"
   ]
  },
  {
   "cell_type": "markdown",
   "id": "b636cd1b",
   "metadata": {},
   "source": [
    "Your answer: \n",
    "\n",
    "The Bayesian estimate (Part C) incorporates prior information, offering a more robust estimate of the population mean (3061.15). In contrast, the method of moments (Part A) provides a sample mean of 3058.03. The slight difference reflects the impact of prior knowledge in Bayesian estimation."
   ]
  },
  {
   "cell_type": "markdown",
   "id": "fbb2395b",
   "metadata": {},
   "source": [
    "## D. Hypothesis testing"
   ]
  },
  {
   "cell_type": "markdown",
   "id": "9829b730",
   "metadata": {},
   "source": [
    "Consider the region Bretagne. While the standard deviation is equal to 400MW in winter, you would like to test the hypothesis that it was 500MW in 2023. The mean is supposed to be known and equal to 3200MW.\n",
    "1. Propose a statistical test at level $\\alpha$."
   ]
  },
  {
   "cell_type": "markdown",
   "id": "eabddc9c",
   "metadata": {},
   "source": [
    "Your answer: \n",
    "\n",
    "The statistical test at level $\\alpha$ is:\n",
    "\n",
    "Null hypothesis: $H_0 = \\{\\sigma_0^2 = 400^2 \\}$.\n",
    "\n",
    "Alternative hypothesis: $H_1 = \\{\\sigma_1^2 = 500^2\\}$.\n",
    "\n",
    "The likelihood functions are:\n",
    "\n",
    "$$\n",
    "p_0(x) = \\prod_{i=1}^n \\frac{1}{\\sigma_0\\sqrt{2\\pi}} \\exp\\left(-\\frac{(x_i - \\mu)^2}{2\\sigma_0^2}\\right) = \\left(\\frac{1}{\\sigma_0\\sqrt{2\\pi}}\\right)^n \\exp\\left(-\\frac{1}{2\\sigma_0^2}\\sum_{i=1}^n (x_i - \\mu)^2\\right)\n",
    "$$\n",
    "\n",
    "$$\n",
    "p_1(x) = \\prod_{i=1}^n \\frac{1}{\\sigma_1\\sqrt{2\\pi}} \\exp\\left(-\\frac{(x_i - \\mu)^2}{2\\sigma_1^2}\\right) = \\left(\\frac{1}{\\sigma_1\\sqrt{2\\pi}}\\right)^n \\exp\\left(-\\frac{1}{2\\sigma_1^2}\\sum_{i=1}^n (x_i - \\mu)^2\\right)\n",
    "$$\n",
    "\n",
    "The likelihood ratio is:\n",
    "\n",
    "$$\n",
    "\\frac{p_1(x)}{p_0(x)} = \\frac{\\left(\\frac{1}{\\sigma_1\\sqrt{2\\pi}}\\right)^n \\exp\\left(-\\frac{1}{2\\sigma_1^2}\\sum_{i=1}^n (x_i - \\mu)^2\\right)}{\\left(\\frac{1}{\\sigma_0\\sqrt{2\\pi}}\\right)^n \\exp\\left(-\\frac{1}{2\\sigma_0^2}\\sum_{i=1}^n (x_i - \\mu)^2\\right)}\n",
    "$$\n",
    "\n",
    "$$\n",
    "\\frac{p_1(x)}{p_0(x)} = \\frac{\\left(\\frac{1}{\\sigma_1\\sqrt{2\\pi}}\\right)^n}{\\left(\\frac{1}{\\sigma_0\\sqrt{2\\pi}}\\right)^n} \\exp\\left(\\frac{1}{2}\\left(\\frac{1}{\\sigma_0^2} - \\frac{1}{\\sigma_1^2}\\right)\\sum_{i=1}^n (x_i - \\mu)^2\\right)\n",
    "$$\n",
    "\n",
    "As we can see, the likelihood ratio is monotonic and increases as $\\sum_{i=1}^n(x_i-\\mu)^2$ increases. Therefore, we can create the following test:\n",
    "\n",
    "$$\n",
    "\\alpha=P(\\sum_{i=1}^n(x_i-\\mu)^2 > c) = P(\\sum_{i=1}^n\\frac{(x_i-\\mu)^2}{\\sigma_0^2} > \\frac{c}{\\sigma_0^2})\n",
    "$$\n",
    "\n",
    "Therefore we reject $H_0$ if $\\sum_{i=1}^n\\frac{(x_i-\\mu)^2}{\\sigma_0^2} > \\frac{c}{\\sigma_0^2} = Q(1-\\alpha)$, where $c=\\sigma_0^2 Q(1-\\alpha)$, Q(.) is the quantile function of $\\chi^2$ and $\\sum_{i=1}^n\\frac{(x_i-\\mu)^2}{\\sigma_0^2} \\sim \\chi^2$."
   ]
  },
  {
   "cell_type": "markdown",
   "id": "7d66ab40",
   "metadata": {},
   "source": [
    "2. Provide the result of this test for $\\alpha=1\\%$."
   ]
  },
  {
   "cell_type": "code",
   "execution_count": 52,
   "id": "9d18e24d",
   "metadata": {},
   "outputs": [
    {
     "name": "stdout",
     "output_type": "stream",
     "text": [
      "Result: We fail to reject H0\n"
     ]
    }
   ],
   "source": [
    "region = \"Bretagne\"\n",
    "df_region = df[df.region == region]\n",
    "df_region_winter = get_winter_data(df_region)\n",
    "df_region_winter_2023 = get_winter_year(df_region, 2023)\n",
    "n = len(df_region_winter_2023)\n",
    "variance_0 = 400**2\n",
    "mean = 3200\n",
    "\n",
    "test_statistics = 0\n",
    "for i in df_region_winter_2023['consumption']:\n",
    "    test_statistics += ((i-mean)**2)/variance_0\n",
    "\n",
    "alpha = 0.01\n",
    "degrees_of_freedom = n  \n",
    "p = 1-alpha \n",
    "\n",
    "if (test_statistics > chi2.ppf(p, degrees_of_freedom)):\n",
    "    print(\"Result: H0 is rejected!\")\n",
    "else:\n",
    "    print(\"Result: We fail to reject H0\")"
   ]
  },
  {
   "cell_type": "markdown",
   "id": "a59a2a96",
   "metadata": {},
   "source": [
    "## E. Testing independence"
   ]
  },
  {
   "cell_type": "markdown",
   "id": "a71cf918",
   "metadata": {},
   "source": [
    "Consider the power consumption in Bretagne and Provence-Alpes-Côte d'Azur in winter. "
   ]
  },
  {
   "cell_type": "markdown",
   "id": "a7c78215",
   "metadata": {},
   "source": [
    "1. Visualize the joint distribution of power consumption in these 2 regions using seaborn."
   ]
  },
  {
   "cell_type": "code",
   "execution_count": 32,
   "id": "29b4c335",
   "metadata": {},
   "outputs": [],
   "source": [
    "region1 = \"Bretagne\"\n",
    "region2 = \"Provence-Alpes-Côte d'Azur\"\n",
    "df_region_bretagne_winter = get_winter_data(df[df.region == region1])\n",
    "df_region_provence_winter = get_winter_data(df[df.region == region2])\n",
    "data = {'Bretagne':df_region_bretagne_winter['consumption'], \"Provence-Alpes-Côte d'Azur\": df_region_provence_winter['consumption']}"
   ]
  },
  {
   "cell_type": "code",
   "execution_count": 33,
   "id": "47abed5e",
   "metadata": {},
   "outputs": [
    {
     "data": {
      "text/plain": [
       "<seaborn.axisgrid.JointGrid at 0x243216db1f0>"
      ]
     },
     "execution_count": 33,
     "metadata": {},
     "output_type": "execute_result"
    },
    {
     "data": {
      "image/png": "[encoded data removed]",
      "text/plain": [
       "<Figure size 600x600 with 3 Axes>"
      ]
     },
     "metadata": {},
     "output_type": "display_data"
    }
   ],
   "source": [
    "data_joint = pd.DataFrame(data)\n",
    "sns.jointplot(x='Bretagne', y=\"Provence-Alpes-Côte d'Azur\", data=data_joint, kind=\"reg\", color='blue',joint_kws={'line_kws':{'color':'red'}})"
   ]
  },
  {
   "cell_type": "markdown",
   "id": "a30a20bc",
   "metadata": {},
   "source": [
    "2. Do you think the power consumption in these two regions is independent?"
   ]
  },
  {
   "cell_type": "markdown",
   "id": "bedb9130",
   "metadata": {},
   "source": [
    "Your answer:\n",
    "\n",
    "I think the power consumption in these two regions are not independent as there is a clear linear relationship between the power consumption in both regions"
   ]
  },
  {
   "cell_type": "markdown",
   "id": "164f9b1c",
   "metadata": {},
   "source": [
    "3. Propose a chi-2 test for the independence of the power consumption in these two regions at level $\\alpha$. "
   ]
  },
  {
   "cell_type": "markdown",
   "id": "f079fecb",
   "metadata": {},
   "source": [
    "Your answer:\n",
    "\n",
    "We have n i.i.d. oberservations $(X_1,Y_1),...,(X_n,Y_n)$. \n",
    "\n",
    "Let $X_1, X_2,...,X_n$ be the samples for the region Bretagne in winter and $Y_1, Y_2,...,Y_n$ for the region Provence-Alpes-Côte d'Azur in winter.\n",
    "\n",
    "The Null and the alternative hypothesis are:\n",
    "\n",
    "Null hypothesis: $H_0 = {X \\perp Y }$.\n",
    "\n",
    "Alternative hypothesis: $H_1 = {X \\not\\perp Y }$.\n",
    "\n",
    "We choose partitions $A_1, A_2,...,A_k$ and $B_1, B_2,...,B_k$ of the corresponding value spaces. Let\n",
    "\n",
    "$N_{ij}= \\sum_{t=1}^n \\mathbb{1}_{\\{X_t \\in A_i, Y_t \\in B_j\\}} \\quad N_{i}=\\sum_{t=1}^n \\mathbb{1}_{\\{X_t \\in A_i\\}} \\quad N_j=\\sum_{t=1}^n \\mathbb{1}_{\\{Y_t \\in B_j\\}}$\n",
    "\n",
    "The $\\chi^2$ statistic for independence is:\n",
    "\n",
    "$$\n",
    "T(X,Y) = \\sum_{i,j}^n \\frac{\\left(N_{ij}-\\frac{N_iN_j}{n}\\right)^2}{\\frac{N_iN_j}{n}} \\rightarrow \\chi^2((K-1)(L-1)) \\text{ when } n \\rightarrow +\\infty\n",
    "$$\n",
    "\n",
    "The Null hypothesis will be rejected when $T(x,y)>c$. For a test at level $\\alpha$, we have (under the null hypotheis):\n",
    "\n",
    "$$\n",
    "\\alpha=P_0(T(X,Y)>c)\n",
    "$$\n",
    "\n",
    "In this case, as $n$ is large, we take $c=Q(1-\\alpha)$ where $Q$ is the quantile function of the $\\chi^2((K-1)(L-1))$ distribution."
   ]
  },
  {
   "cell_type": "markdown",
   "id": "50a23229",
   "metadata": {},
   "source": [
    "4. Give the result of this test for $\\alpha=1\\%$. "
   ]
  },
  {
   "cell_type": "code",
   "execution_count": 34,
   "id": "f113d192",
   "metadata": {
    "scrolled": true
   },
   "outputs": [
    {
     "data": {
      "text/html": [
       "<div>\n",
       "<style scoped>\n",
       "    .dataframe tbody tr th:only-of-type {\n",
       "        vertical-align: middle;\n",
       "    }\n",
       "\n",
       "    .dataframe tbody tr th {\n",
       "        vertical-align: top;\n",
       "    }\n",
       "\n",
       "    .dataframe thead th {\n",
       "        text-align: right;\n",
       "    }\n",
       "</style>\n",
       "<table border=\"1\" class=\"dataframe\">\n",
       "  <thead>\n",
       "    <tr style=\"text-align: right;\">\n",
       "      <th>Provence_intervals</th>\n",
       "      <th>(3940, 4140]</th>\n",
       "      <th>(4140, 4340]</th>\n",
       "      <th>(4340, 4540]</th>\n",
       "      <th>(4540, 4740]</th>\n",
       "      <th>(4740, 4940]</th>\n",
       "      <th>(4940, 5140]</th>\n",
       "      <th>(5140, 5340]</th>\n",
       "      <th>(5340, 5540]</th>\n",
       "      <th>(5540, 5740]</th>\n",
       "      <th>(5740, 5940]</th>\n",
       "      <th>(5940, 6140]</th>\n",
       "      <th>(6140, 6340]</th>\n",
       "      <th>(6340, 6540]</th>\n",
       "      <th>(6540, 6740]</th>\n",
       "      <th>(6740, 6940]</th>\n",
       "      <th>(6940, 7140]</th>\n",
       "      <th>(7140, 7340]</th>\n",
       "      <th>(7540, 7740]</th>\n",
       "    </tr>\n",
       "    <tr>\n",
       "      <th>Bretagne_intervals</th>\n",
       "      <th></th>\n",
       "      <th></th>\n",
       "      <th></th>\n",
       "      <th></th>\n",
       "      <th></th>\n",
       "      <th></th>\n",
       "      <th></th>\n",
       "      <th></th>\n",
       "      <th></th>\n",
       "      <th></th>\n",
       "      <th></th>\n",
       "      <th></th>\n",
       "      <th></th>\n",
       "      <th></th>\n",
       "      <th></th>\n",
       "      <th></th>\n",
       "      <th></th>\n",
       "      <th></th>\n",
       "    </tr>\n",
       "  </thead>\n",
       "  <tbody>\n",
       "    <tr>\n",
       "      <th>(2167, 2367]</th>\n",
       "      <td>2</td>\n",
       "      <td>4</td>\n",
       "      <td>2</td>\n",
       "      <td>0</td>\n",
       "      <td>2</td>\n",
       "      <td>2</td>\n",
       "      <td>0</td>\n",
       "      <td>0</td>\n",
       "      <td>0</td>\n",
       "      <td>0</td>\n",
       "      <td>0</td>\n",
       "      <td>0</td>\n",
       "      <td>0</td>\n",
       "      <td>0</td>\n",
       "      <td>0</td>\n",
       "      <td>0</td>\n",
       "      <td>0</td>\n",
       "      <td>0</td>\n",
       "    </tr>\n",
       "    <tr>\n",
       "      <th>(2367, 2567]</th>\n",
       "      <td>2</td>\n",
       "      <td>3</td>\n",
       "      <td>1</td>\n",
       "      <td>6</td>\n",
       "      <td>4</td>\n",
       "      <td>10</td>\n",
       "      <td>5</td>\n",
       "      <td>0</td>\n",
       "      <td>1</td>\n",
       "      <td>0</td>\n",
       "      <td>0</td>\n",
       "      <td>0</td>\n",
       "      <td>0</td>\n",
       "      <td>0</td>\n",
       "      <td>0</td>\n",
       "      <td>0</td>\n",
       "      <td>0</td>\n",
       "      <td>0</td>\n",
       "    </tr>\n",
       "    <tr>\n",
       "      <th>(2567, 2767]</th>\n",
       "      <td>1</td>\n",
       "      <td>7</td>\n",
       "      <td>5</td>\n",
       "      <td>9</td>\n",
       "      <td>7</td>\n",
       "      <td>24</td>\n",
       "      <td>14</td>\n",
       "      <td>9</td>\n",
       "      <td>4</td>\n",
       "      <td>1</td>\n",
       "      <td>0</td>\n",
       "      <td>1</td>\n",
       "      <td>0</td>\n",
       "      <td>0</td>\n",
       "      <td>0</td>\n",
       "      <td>0</td>\n",
       "      <td>0</td>\n",
       "      <td>0</td>\n",
       "    </tr>\n",
       "    <tr>\n",
       "      <th>(2767, 2967]</th>\n",
       "      <td>0</td>\n",
       "      <td>3</td>\n",
       "      <td>10</td>\n",
       "      <td>9</td>\n",
       "      <td>17</td>\n",
       "      <td>17</td>\n",
       "      <td>25</td>\n",
       "      <td>24</td>\n",
       "      <td>13</td>\n",
       "      <td>9</td>\n",
       "      <td>7</td>\n",
       "      <td>1</td>\n",
       "      <td>1</td>\n",
       "      <td>1</td>\n",
       "      <td>0</td>\n",
       "      <td>0</td>\n",
       "      <td>0</td>\n",
       "      <td>0</td>\n",
       "    </tr>\n",
       "    <tr>\n",
       "      <th>(2967, 3167]</th>\n",
       "      <td>0</td>\n",
       "      <td>0</td>\n",
       "      <td>0</td>\n",
       "      <td>6</td>\n",
       "      <td>18</td>\n",
       "      <td>32</td>\n",
       "      <td>38</td>\n",
       "      <td>32</td>\n",
       "      <td>30</td>\n",
       "      <td>16</td>\n",
       "      <td>20</td>\n",
       "      <td>4</td>\n",
       "      <td>3</td>\n",
       "      <td>0</td>\n",
       "      <td>0</td>\n",
       "      <td>0</td>\n",
       "      <td>0</td>\n",
       "      <td>0</td>\n",
       "    </tr>\n",
       "    <tr>\n",
       "      <th>(3167, 3367]</th>\n",
       "      <td>0</td>\n",
       "      <td>0</td>\n",
       "      <td>0</td>\n",
       "      <td>1</td>\n",
       "      <td>10</td>\n",
       "      <td>8</td>\n",
       "      <td>16</td>\n",
       "      <td>29</td>\n",
       "      <td>41</td>\n",
       "      <td>27</td>\n",
       "      <td>28</td>\n",
       "      <td>16</td>\n",
       "      <td>7</td>\n",
       "      <td>4</td>\n",
       "      <td>4</td>\n",
       "      <td>0</td>\n",
       "      <td>0</td>\n",
       "      <td>0</td>\n",
       "    </tr>\n",
       "    <tr>\n",
       "      <th>(3367, 3567]</th>\n",
       "      <td>0</td>\n",
       "      <td>0</td>\n",
       "      <td>0</td>\n",
       "      <td>0</td>\n",
       "      <td>1</td>\n",
       "      <td>5</td>\n",
       "      <td>12</td>\n",
       "      <td>12</td>\n",
       "      <td>24</td>\n",
       "      <td>28</td>\n",
       "      <td>24</td>\n",
       "      <td>22</td>\n",
       "      <td>13</td>\n",
       "      <td>4</td>\n",
       "      <td>1</td>\n",
       "      <td>1</td>\n",
       "      <td>1</td>\n",
       "      <td>0</td>\n",
       "    </tr>\n",
       "    <tr>\n",
       "      <th>(3567, 3767]</th>\n",
       "      <td>0</td>\n",
       "      <td>0</td>\n",
       "      <td>0</td>\n",
       "      <td>0</td>\n",
       "      <td>0</td>\n",
       "      <td>0</td>\n",
       "      <td>0</td>\n",
       "      <td>3</td>\n",
       "      <td>9</td>\n",
       "      <td>10</td>\n",
       "      <td>13</td>\n",
       "      <td>21</td>\n",
       "      <td>17</td>\n",
       "      <td>8</td>\n",
       "      <td>7</td>\n",
       "      <td>2</td>\n",
       "      <td>0</td>\n",
       "      <td>0</td>\n",
       "    </tr>\n",
       "    <tr>\n",
       "      <th>(3767, 3967]</th>\n",
       "      <td>0</td>\n",
       "      <td>0</td>\n",
       "      <td>0</td>\n",
       "      <td>0</td>\n",
       "      <td>0</td>\n",
       "      <td>0</td>\n",
       "      <td>0</td>\n",
       "      <td>3</td>\n",
       "      <td>4</td>\n",
       "      <td>2</td>\n",
       "      <td>6</td>\n",
       "      <td>9</td>\n",
       "      <td>15</td>\n",
       "      <td>3</td>\n",
       "      <td>4</td>\n",
       "      <td>2</td>\n",
       "      <td>2</td>\n",
       "      <td>0</td>\n",
       "    </tr>\n",
       "    <tr>\n",
       "      <th>(3967, 4167]</th>\n",
       "      <td>0</td>\n",
       "      <td>0</td>\n",
       "      <td>0</td>\n",
       "      <td>0</td>\n",
       "      <td>0</td>\n",
       "      <td>0</td>\n",
       "      <td>1</td>\n",
       "      <td>1</td>\n",
       "      <td>0</td>\n",
       "      <td>0</td>\n",
       "      <td>2</td>\n",
       "      <td>7</td>\n",
       "      <td>3</td>\n",
       "      <td>5</td>\n",
       "      <td>2</td>\n",
       "      <td>1</td>\n",
       "      <td>2</td>\n",
       "      <td>0</td>\n",
       "    </tr>\n",
       "    <tr>\n",
       "      <th>(4167, 4367]</th>\n",
       "      <td>0</td>\n",
       "      <td>0</td>\n",
       "      <td>0</td>\n",
       "      <td>0</td>\n",
       "      <td>0</td>\n",
       "      <td>0</td>\n",
       "      <td>1</td>\n",
       "      <td>1</td>\n",
       "      <td>0</td>\n",
       "      <td>1</td>\n",
       "      <td>0</td>\n",
       "      <td>1</td>\n",
       "      <td>1</td>\n",
       "      <td>1</td>\n",
       "      <td>2</td>\n",
       "      <td>1</td>\n",
       "      <td>2</td>\n",
       "      <td>0</td>\n",
       "    </tr>\n",
       "    <tr>\n",
       "      <th>(4367, 4567]</th>\n",
       "      <td>0</td>\n",
       "      <td>0</td>\n",
       "      <td>0</td>\n",
       "      <td>0</td>\n",
       "      <td>0</td>\n",
       "      <td>0</td>\n",
       "      <td>0</td>\n",
       "      <td>0</td>\n",
       "      <td>0</td>\n",
       "      <td>1</td>\n",
       "      <td>0</td>\n",
       "      <td>0</td>\n",
       "      <td>0</td>\n",
       "      <td>0</td>\n",
       "      <td>0</td>\n",
       "      <td>0</td>\n",
       "      <td>0</td>\n",
       "      <td>0</td>\n",
       "    </tr>\n",
       "    <tr>\n",
       "      <th>(4567, 4767]</th>\n",
       "      <td>0</td>\n",
       "      <td>0</td>\n",
       "      <td>0</td>\n",
       "      <td>0</td>\n",
       "      <td>0</td>\n",
       "      <td>0</td>\n",
       "      <td>0</td>\n",
       "      <td>0</td>\n",
       "      <td>0</td>\n",
       "      <td>0</td>\n",
       "      <td>0</td>\n",
       "      <td>0</td>\n",
       "      <td>0</td>\n",
       "      <td>0</td>\n",
       "      <td>0</td>\n",
       "      <td>0</td>\n",
       "      <td>1</td>\n",
       "      <td>1</td>\n",
       "    </tr>\n",
       "    <tr>\n",
       "      <th>(4767, 4967]</th>\n",
       "      <td>0</td>\n",
       "      <td>0</td>\n",
       "      <td>0</td>\n",
       "      <td>0</td>\n",
       "      <td>0</td>\n",
       "      <td>0</td>\n",
       "      <td>0</td>\n",
       "      <td>1</td>\n",
       "      <td>0</td>\n",
       "      <td>0</td>\n",
       "      <td>0</td>\n",
       "      <td>0</td>\n",
       "      <td>0</td>\n",
       "      <td>0</td>\n",
       "      <td>0</td>\n",
       "      <td>0</td>\n",
       "      <td>0</td>\n",
       "      <td>0</td>\n",
       "    </tr>\n",
       "  </tbody>\n",
       "</table>\n",
       "</div>"
      ],
      "text/plain": [
       "Provence_intervals  (3940, 4140]  (4140, 4340]  (4340, 4540]  (4540, 4740]  \\\n",
       "Bretagne_intervals                                                           \n",
       "(2167, 2367]                   2             4             2             0   \n",
       "(2367, 2567]                   2             3             1             6   \n",
       "(2567, 2767]                   1             7             5             9   \n",
       "(2767, 2967]                   0             3            10             9   \n",
       "(2967, 3167]                   0             0             0             6   \n",
       "(3167, 3367]                   0             0             0             1   \n",
       "(3367, 3567]                   0             0             0             0   \n",
       "(3567, 3767]                   0             0             0             0   \n",
       "(3767, 3967]                   0             0             0             0   \n",
       "(3967, 4167]                   0             0             0             0   \n",
       "(4167, 4367]                   0             0             0             0   \n",
       "(4367, 4567]                   0             0             0             0   \n",
       "(4567, 4767]                   0             0             0             0   \n",
       "(4767, 4967]                   0             0             0             0   \n",
       "\n",
       "Provence_intervals  (4740, 4940]  (4940, 5140]  (5140, 5340]  (5340, 5540]  \\\n",
       "Bretagne_intervals                                                           \n",
       "(2167, 2367]                   2             2             0             0   \n",
       "(2367, 2567]                   4            10             5             0   \n",
       "(2567, 2767]                   7            24            14             9   \n",
       "(2767, 2967]                  17            17            25            24   \n",
       "(2967, 3167]                  18            32            38            32   \n",
       "(3167, 3367]                  10             8            16            29   \n",
       "(3367, 3567]                   1             5            12            12   \n",
       "(3567, 3767]                   0             0             0             3   \n",
       "(3767, 3967]                   0             0             0             3   \n",
       "(3967, 4167]                   0             0             1             1   \n",
       "(4167, 4367]                   0             0             1             1   \n",
       "(4367, 4567]                   0             0             0             0   \n",
       "(4567, 4767]                   0             0             0             0   \n",
       "(4767, 4967]                   0             0             0             1   \n",
       "\n",
       "Provence_intervals  (5540, 5740]  (5740, 5940]  (5940, 6140]  (6140, 6340]  \\\n",
       "Bretagne_intervals                                                           \n",
       "(2167, 2367]                   0             0             0             0   \n",
       "(2367, 2567]                   1             0             0             0   \n",
       "(2567, 2767]                   4             1             0             1   \n",
       "(2767, 2967]                  13             9             7             1   \n",
       "(2967, 3167]                  30            16            20             4   \n",
       "(3167, 3367]                  41            27            28            16   \n",
       "(3367, 3567]                  24            28            24            22   \n",
       "(3567, 3767]                   9            10            13            21   \n",
       "(3767, 3967]                   4             2             6             9   \n",
       "(3967, 4167]                   0             0             2             7   \n",
       "(4167, 4367]                   0             1             0             1   \n",
       "(4367, 4567]                   0             1             0             0   \n",
       "(4567, 4767]                   0             0             0             0   \n",
       "(4767, 4967]                   0             0             0             0   \n",
       "\n",
       "Provence_intervals  (6340, 6540]  (6540, 6740]  (6740, 6940]  (6940, 7140]  \\\n",
       "Bretagne_intervals                                                           \n",
       "(2167, 2367]                   0             0             0             0   \n",
       "(2367, 2567]                   0             0             0             0   \n",
       "(2567, 2767]                   0             0             0             0   \n",
       "(2767, 2967]                   1             1             0             0   \n",
       "(2967, 3167]                   3             0             0             0   \n",
       "(3167, 3367]                   7             4             4             0   \n",
       "(3367, 3567]                  13             4             1             1   \n",
       "(3567, 3767]                  17             8             7             2   \n",
       "(3767, 3967]                  15             3             4             2   \n",
       "(3967, 4167]                   3             5             2             1   \n",
       "(4167, 4367]                   1             1             2             1   \n",
       "(4367, 4567]                   0             0             0             0   \n",
       "(4567, 4767]                   0             0             0             0   \n",
       "(4767, 4967]                   0             0             0             0   \n",
       "\n",
       "Provence_intervals  (7140, 7340]  (7540, 7740]  \n",
       "Bretagne_intervals                              \n",
       "(2167, 2367]                   0             0  \n",
       "(2367, 2567]                   0             0  \n",
       "(2567, 2767]                   0             0  \n",
       "(2767, 2967]                   0             0  \n",
       "(2967, 3167]                   0             0  \n",
       "(3167, 3367]                   0             0  \n",
       "(3367, 3567]                   1             0  \n",
       "(3567, 3767]                   0             0  \n",
       "(3767, 3967]                   2             0  \n",
       "(3967, 4167]                   2             0  \n",
       "(4167, 4367]                   2             0  \n",
       "(4367, 4567]                   0             0  \n",
       "(4567, 4767]                   1             1  \n",
       "(4767, 4967]                   0             0  "
      ]
     },
     "execution_count": 34,
     "metadata": {},
     "output_type": "execute_result"
    }
   ],
   "source": [
    "data_joint\n",
    "\n",
    "interval_size = 200\n",
    "\n",
    "# Define the custom intervals for both columns\n",
    "bretagne_intervals = np.arange(data_joint['Bretagne'].min(), data_joint['Bretagne'].max() + interval_size,interval_size)\n",
    "\n",
    "# Create intervals for 'Provence-Alpes-Côte d'Azur' starting from the minimum value, incrementing by 'n', and ending at the maximum value\n",
    "provence_intervals = np.arange(data_joint['Provence-Alpes-Côte d\\'Azur'].min(), data_joint['Provence-Alpes-Côte d\\'Azur'].max() + interval_size, interval_size)\n",
    "\n",
    "\n",
    "# Use pd.cut to categorize the values into custom intervals\n",
    "data_joint['Bretagne_intervals'] = pd.cut(data_joint['Bretagne'], bins=bretagne_intervals)\n",
    "data_joint['Provence_intervals'] = pd.cut(data_joint['Provence-Alpes-Côte d\\'Azur'], bins=provence_intervals)\n",
    "\n",
    "# Create a contingency table using pd.crosstab\n",
    "contingency_table = pd.crosstab(data_joint['Bretagne_intervals'], data_joint['Provence_intervals'])\n",
    "contingency_table"
   ]
  },
  {
   "cell_type": "code",
   "execution_count": 35,
   "id": "10203695",
   "metadata": {},
   "outputs": [],
   "source": [
    "Ni = contingency_table.sum(axis=1).to_list()\n",
    "Nj = contingency_table.sum(axis=0).to_list()"
   ]
  },
  {
   "cell_type": "code",
   "execution_count": 36,
   "id": "5fb7397a",
   "metadata": {},
   "outputs": [],
   "source": [
    "# Calculate degrees of freedom\n",
    "K, L = contingency_table.shape\n",
    "\n",
    "T_X_Y = 0\n",
    "n = len(data_joint[\"Bretagne\"])\n",
    "\n",
    "for i in range(0,K):\n",
    "    for j in range(0,L):\n",
    "        T_X_Y = T_X_Y + ((contingency_table.iloc[i,j]-(Ni[i]*Nj[j])/n)**2)/((Ni[i]*Nj[j])/n)"
   ]
  },
  {
   "cell_type": "code",
   "execution_count": 37,
   "id": "6f19d968",
   "metadata": {},
   "outputs": [
    {
     "name": "stdout",
     "output_type": "stream",
     "text": [
      "We reject H0 - The power consumption in these two regions is not independent\n"
     ]
    }
   ],
   "source": [
    "# For alpha = 1% we have\n",
    "degrees_of_freedom = (K - 1) * (L - 1)\n",
    "alpha = 0.01\n",
    "p = 1-alpha\n",
    "c = chi2.ppf(p, degrees_of_freedom)\n",
    "\n",
    "if T_X_Y > c:\n",
    "    print(\"We reject H0 - The power consumption in these two regions is not independent\")\n",
    "else:\n",
    "    print(\"We fail to reject H0\")"
   ]
  },
  {
   "cell_type": "markdown",
   "id": "339d7f64",
   "metadata": {},
   "source": [
    "## F. Confidence intervals"
   ]
  },
  {
   "cell_type": "markdown",
   "id": "1c957e74",
   "metadata": {},
   "source": [
    "Consider the region Bretagne in winter. \n",
    "\n",
    "1. Provide a confidence interval at level $\\alpha=95\\%$ for the mean power consumption. "
   ]
  },
  {
   "cell_type": "markdown",
   "id": "a18dae85",
   "metadata": {},
   "source": [
    "The confidence region $\\delta(x)$ at level $\\alpha=95%$ is given by:\n",
    "\n",
    "$$\n",
    "\\delta(x) = \\left[ \\bar{X} - \\frac{c\\sigma}{\\sqrt{n}}, \\bar{X} + \\frac{c\\sigma}{\\sqrt{n}} \\right]\n",
    "$$\n",
    "\n",
    "Where $\\bar{X}$ is:\n",
    "\n",
    "$$\n",
    "\\bar{X} = \\frac{1}{n} \\sum_{i=1}^n x_i\n",
    "$$\n",
    "\n",
    "$c$ is equal to the quantile function $Q$ of the normal distribution, that is $c=Q(1-(1-\\alpha)/2)$."
   ]
  },
  {
   "cell_type": "markdown",
   "id": "b51ff942",
   "metadata": {},
   "source": [
    "As mentioned on exercise c, the standard deviation of the region Bretagne in winter is equal to 400MW. The computation of the confidence interval is below:"
   ]
  },
  {
   "cell_type": "code",
   "execution_count": 38,
   "id": "cd6315e4",
   "metadata": {},
   "outputs": [
    {
     "name": "stdout",
     "output_type": "stream",
     "text": [
      "The confidence interval is δ(x) = [3189.1602221252256, 3239.19619335339]\n"
     ]
    }
   ],
   "source": [
    "region1 = \"Bretagne\"\n",
    "df_region_bretagne_winter = get_winter_data(df[df.region == region1])\n",
    "mean = df_region_bretagne_winter[\"consumption\"].mean()\n",
    "sdv = 400\n",
    "n = len(df_region_bretagne_winter[\"consumption\"])\n",
    "\n",
    "alpha = 0.95\n",
    "p = (1-alpha)/2\n",
    "c = norm.ppf(1-p)\n",
    "\n",
    "# upper limit of confidence interval\n",
    "\n",
    "upper_limit = mean + c*sdv/np.sqrt(n)\n",
    "\n",
    "# lower limit of confidence interval\n",
    "\n",
    "lower_limit = mean - c*sdv/np.sqrt(n)\n",
    "\n",
    "print(\"The confidence interval is δ(x) = [{}, {}]\".format(lower_limit, upper_limit))"
   ]
  },
  {
   "cell_type": "markdown",
   "id": "8490c8fa",
   "metadata": {},
   "source": [
    "2. Give the result of a Student test at level $5\\%$ for the null hypothesis that the mean consumption in 2023 is equal to 3100MW."
   ]
  },
  {
   "cell_type": "markdown",
   "id": "3a786cb2",
   "metadata": {},
   "source": [
    "We have:\n",
    "\n",
    "Null hypothesis: $H_0 = \\{\\mu = 3100 \\}$.\n",
    "\n",
    "Alternative hypothesis: $H_1 = \\{\\mu \\neq 3100 \\}$\n",
    "\n",
    "The Student test at level $\\alpha = 5\\% $ is:\n",
    "\n",
    "$$\n",
    "\\alpha = P_0\\left(|\\bar{X}| > c\\right) = 2P\\left(\\bar{X} > c\\right) = 2P\\left(\\frac{\\bar{X} - \\mu_0}{S/\\sqrt{n}} > t_{n-1, \\alpha/2}\\right)\n",
    "$$\n",
    "\n",
    "Where $t_{n-1, \\alpha/2}$ is the point beyond which the $t$ distribution with $n − 1$ degrees of freedom has probability $\\alpha/2$. $S$ and $\\bar X$ are:\n",
    "\n",
    "$$\n",
    "\\bar X = \\frac 1 n \\sum_{i=1}^n x_i\\quad S = \\frac 1 {n-1}\\sum_{i=1}^n (x_i - \\hat \\mu)^2\n",
    "$$\n",
    "\n",
    "Below are the results of the test:"
   ]
  },
  {
   "cell_type": "code",
   "execution_count": 39,
   "id": "547fb138",
   "metadata": {},
   "outputs": [],
   "source": [
    "from scipy.stats import t"
   ]
  },
  {
   "cell_type": "code",
   "execution_count": 40,
   "id": "e53f3f7d",
   "metadata": {},
   "outputs": [
    {
     "data": {
      "text/html": [
       "<div>\n",
       "<style scoped>\n",
       "    .dataframe tbody tr th:only-of-type {\n",
       "        vertical-align: middle;\n",
       "    }\n",
       "\n",
       "    .dataframe tbody tr th {\n",
       "        vertical-align: top;\n",
       "    }\n",
       "\n",
       "    .dataframe thead th {\n",
       "        text-align: right;\n",
       "    }\n",
       "</style>\n",
       "<table border=\"1\" class=\"dataframe\">\n",
       "  <thead>\n",
       "    <tr style=\"text-align: right;\">\n",
       "      <th></th>\n",
       "      <th>region</th>\n",
       "      <th>date</th>\n",
       "      <th>consumption</th>\n",
       "    </tr>\n",
       "  </thead>\n",
       "  <tbody>\n",
       "    <tr>\n",
       "      <th>902</th>\n",
       "      <td>Bretagne</td>\n",
       "      <td>2023-01-01</td>\n",
       "      <td>2306</td>\n",
       "    </tr>\n",
       "    <tr>\n",
       "      <th>903</th>\n",
       "      <td>Bretagne</td>\n",
       "      <td>2023-01-02</td>\n",
       "      <td>2702</td>\n",
       "    </tr>\n",
       "    <tr>\n",
       "      <th>904</th>\n",
       "      <td>Bretagne</td>\n",
       "      <td>2023-01-03</td>\n",
       "      <td>3049</td>\n",
       "    </tr>\n",
       "    <tr>\n",
       "      <th>905</th>\n",
       "      <td>Bretagne</td>\n",
       "      <td>2023-01-04</td>\n",
       "      <td>2904</td>\n",
       "    </tr>\n",
       "    <tr>\n",
       "      <th>906</th>\n",
       "      <td>Bretagne</td>\n",
       "      <td>2023-01-05</td>\n",
       "      <td>2833</td>\n",
       "    </tr>\n",
       "    <tr>\n",
       "      <th>...</th>\n",
       "      <td>...</td>\n",
       "      <td>...</td>\n",
       "      <td>...</td>\n",
       "    </tr>\n",
       "    <tr>\n",
       "      <th>977</th>\n",
       "      <td>Bretagne</td>\n",
       "      <td>2023-03-17</td>\n",
       "      <td>2609</td>\n",
       "    </tr>\n",
       "    <tr>\n",
       "      <th>978</th>\n",
       "      <td>Bretagne</td>\n",
       "      <td>2023-03-18</td>\n",
       "      <td>2309</td>\n",
       "    </tr>\n",
       "    <tr>\n",
       "      <th>979</th>\n",
       "      <td>Bretagne</td>\n",
       "      <td>2023-03-19</td>\n",
       "      <td>2206</td>\n",
       "    </tr>\n",
       "    <tr>\n",
       "      <th>980</th>\n",
       "      <td>Bretagne</td>\n",
       "      <td>2023-03-20</td>\n",
       "      <td>2672</td>\n",
       "    </tr>\n",
       "    <tr>\n",
       "      <th>981</th>\n",
       "      <td>Bretagne</td>\n",
       "      <td>2023-03-21</td>\n",
       "      <td>2618</td>\n",
       "    </tr>\n",
       "  </tbody>\n",
       "</table>\n",
       "<p>80 rows × 3 columns</p>\n",
       "</div>"
      ],
      "text/plain": [
       "       region        date  consumption\n",
       "902  Bretagne  2023-01-01         2306\n",
       "903  Bretagne  2023-01-02         2702\n",
       "904  Bretagne  2023-01-03         3049\n",
       "905  Bretagne  2023-01-04         2904\n",
       "906  Bretagne  2023-01-05         2833\n",
       "..        ...         ...          ...\n",
       "977  Bretagne  2023-03-17         2609\n",
       "978  Bretagne  2023-03-18         2309\n",
       "979  Bretagne  2023-03-19         2206\n",
       "980  Bretagne  2023-03-20         2672\n",
       "981  Bretagne  2023-03-21         2618\n",
       "\n",
       "[80 rows x 3 columns]"
      ]
     },
     "execution_count": 40,
     "metadata": {},
     "output_type": "execute_result"
    }
   ],
   "source": [
    "df_region_bretagne_winter\n",
    "df_region_winter_2023 = df_region_bretagne_winter[pd.to_datetime(filtered_data['date']).dt.year == 2023]\n",
    "df_region_winter_2023"
   ]
  },
  {
   "cell_type": "code",
   "execution_count": 41,
   "id": "95eceeb9",
   "metadata": {},
   "outputs": [
    {
     "name": "stdout",
     "output_type": "stream",
     "text": [
      "We fail to reject the null hypothesis H0\n"
     ]
    }
   ],
   "source": [
    "# two-tailed test for alpha = 5%\n",
    "alpha = 0.05\n",
    "n = len(df_region_winter_2023[\"consumption\"])\n",
    "mean = df_region_winter_2023[\"consumption\"].mean()\n",
    "s = calculate_sdv(df_region_winter_2023, mean)\n",
    "u_0 = 3100\n",
    "\n",
    "test_statistics = (np.sqrt(n)*(mean-u_0))/s\n",
    "\n",
    "degrees_of_freedom = n-1  \n",
    "p = 1-alpha/2 \n",
    "\n",
    "t.ppf(p, degrees_of_freedom)\n",
    "\n",
    "if (test_statistics > t.ppf(p, degrees_of_freedom)) or (test_statistics < -t.ppf(p, degrees_of_freedom)):\n",
    "    print(\"We reject the null hypothesis H0\")\n",
    "else:\n",
    "    print(\"We fail to reject the null hypothesis H0\")"
   ]
  }
 ],
 "metadata": {
  "kernelspec": {
   "display_name": "Python 3 (ipykernel)",
   "language": "python",
   "name": "python3"
  },
  "language_info": {
   "codemirror_mode": {
    "name": "ipython",
    "version": 3
   },
   "file_extension": ".py",
   "mimetype": "text/x-python",
   "name": "python",
   "nbconvert_exporter": "python",
   "pygments_lexer": "ipython3",
   "version": "3.10.11"
  }
 },
 "nbformat": 4,
 "nbformat_minor": 5
}
